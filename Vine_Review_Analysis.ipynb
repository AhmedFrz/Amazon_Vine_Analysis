{
 "cells": [
  {
   "cell_type": "code",
   "execution_count": 1,
   "metadata": {
    "colab": {
     "base_uri": "https://localhost:8080/"
    },
    "executionInfo": {
     "elapsed": 23589,
     "status": "ok",
     "timestamp": 1662941539314,
     "user": {
      "displayName": "Ahmed Faraz",
      "userId": "17343988725595118136"
     },
     "user_tz": 240
    },
    "id": "kfLbY5NPCW89",
    "outputId": "87df9abe-e196-4d79-b8f8-909a2081c34f"
   },
   "outputs": [
    {
     "name": "stdout",
     "output_type": "stream",
     "text": [
      "\r",
      "0% [Working]\r",
      "            \r",
      "Hit:1 http://archive.ubuntu.com/ubuntu bionic InRelease\n",
      "\r",
      "0% [Connecting to security.ubuntu.com (91.189.91.39)] [Connecting to cloud.r-pr\r",
      "                                                                               \r",
      "Get:2 http://archive.ubuntu.com/ubuntu bionic-updates InRelease [88.7 kB]\n",
      "\r",
      "                                                                               \r",
      "Get:3 http://ppa.launchpad.net/c2d4u.team/c2d4u4.0+/ubuntu bionic InRelease [15.9 kB]\n",
      "\r",
      "0% [2 InRelease 88.7 kB/88.7 kB 100%] [Connecting to security.ubuntu.com (91.18\r",
      "0% [Waiting for headers] [Connecting to security.ubuntu.com (91.189.91.39)] [Co\r",
      "                                                                               \r",
      "Hit:4 http://ppa.launchpad.net/cran/libgit2/ubuntu bionic InRelease\n",
      "\r",
      "0% [1 InRelease gpgv 242 kB] [Waiting for headers] [Connecting to security.ubun\r",
      "                                                                               \r",
      "Get:5 http://archive.ubuntu.com/ubuntu bionic-backports InRelease [74.6 kB]\n",
      "\r",
      "0% [1 InRelease gpgv 242 kB] [5 InRelease 36.9 kB/74.6 kB 49%] [Connecting to s\r",
      "0% [1 InRelease gpgv 242 kB] [Waiting for headers] [Connected to cloud.r-projec\r",
      "                                                                               \r",
      "Get:6 http://ppa.launchpad.net/deadsnakes/ppa/ubuntu bionic InRelease [15.9 kB]\n",
      "\r",
      "0% [1 InRelease gpgv 242 kB] [Waiting for headers] [Connected to cloud.r-projec\r",
      "                                                                               \r",
      "Get:7 https://cloud.r-project.org/bin/linux/ubuntu bionic-cran40/ InRelease [3,626 B]\n",
      "\r",
      "0% [1 InRelease gpgv 242 kB] [Waiting for headers] [Waiting for headers] [6 InR\r",
      "0% [1 InRelease gpgv 242 kB] [Waiting for headers] [Waiting for headers] [Conne\r",
      "                                                                               \r",
      "Hit:8 http://ppa.launchpad.net/graphics-drivers/ppa/ubuntu bionic InRelease\n",
      "Get:9 http://security.ubuntu.com/ubuntu bionic-security InRelease [88.7 kB]\n",
      "Ign:10 https://developer.download.nvidia.com/compute/machine-learning/repos/ubuntu1804/x86_64  InRelease\n",
      "Hit:11 https://developer.download.nvidia.com/compute/cuda/repos/ubuntu1804/x86_64  InRelease\n",
      "Hit:12 https://developer.download.nvidia.com/compute/machine-learning/repos/ubuntu1804/x86_64  Release\n",
      "Get:13 http://ppa.launchpad.net/c2d4u.team/c2d4u4.0+/ubuntu bionic/main Sources [2,105 kB]\n",
      "Get:14 http://ppa.launchpad.net/c2d4u.team/c2d4u4.0+/ubuntu bionic/main amd64 Packages [1,079 kB]\n",
      "Get:15 http://archive.ubuntu.com/ubuntu bionic-updates/main amd64 Packages [3,396 kB]\n",
      "Get:16 http://archive.ubuntu.com/ubuntu bionic-updates/restricted amd64 Packages [1,172 kB]\n",
      "Get:17 https://cloud.r-project.org/bin/linux/ubuntu bionic-cran40/ Packages [91.7 kB]\n",
      "Get:18 http://ppa.launchpad.net/deadsnakes/ppa/ubuntu bionic/main amd64 Packages [45.2 kB]\n",
      "Get:20 http://security.ubuntu.com/ubuntu bionic-security/main amd64 Packages [2,965 kB]\n",
      "Get:21 http://security.ubuntu.com/ubuntu bionic-security/universe amd64 Packages [1,540 kB]\n",
      "Get:22 http://security.ubuntu.com/ubuntu bionic-security/restricted amd64 Packages [1,131 kB]\n",
      "Fetched 13.8 MB in 7s (1,999 kB/s)\n",
      "Reading package lists... Done\n"
     ]
    }
   ],
   "source": [
    "import os\n",
    "# Find the latest version of spark 3.0  from http://www.apache.org/dist/spark/ and enter as the spark version\n",
    "# For example:\n",
    "# spark_version = 'spark-3.0.3'\n",
    "spark_version = 'spark-3.2.2'\n",
    "os.environ['SPARK_VERSION']=spark_version\n",
    "\n",
    "# Install Spark and Java\n",
    "!apt-get update\n",
    "!apt-get install openjdk-11-jdk-headless -qq > /dev/null\n",
    "!wget -q http://www.apache.org/dist/spark/$SPARK_VERSION/$SPARK_VERSION-bin-hadoop2.7.tgz\n",
    "!tar xf $SPARK_VERSION-bin-hadoop2.7.tgz\n",
    "!pip install -q findspark\n",
    "\n",
    "# Set Environment Variables\n",
    "import os\n",
    "os.environ[\"JAVA_HOME\"] = \"/usr/lib/jvm/java-11-openjdk-amd64\"\n",
    "os.environ[\"SPARK_HOME\"] = f\"/content/{spark_version}-bin-hadoop2.7\"\n",
    "\n",
    "# Start a SparkSession\n",
    "import findspark\n",
    "findspark.init()"
   ]
  },
  {
   "cell_type": "code",
   "execution_count": null,
   "metadata": {
    "id": "DujqIUjCCaDt"
   },
   "outputs": [],
   "source": []
  },
  {
   "cell_type": "code",
   "execution_count": 2,
   "metadata": {
    "executionInfo": {
     "elapsed": 8306,
     "status": "ok",
     "timestamp": 1662941580777,
     "user": {
      "displayName": "Ahmed Faraz",
      "userId": "17343988725595118136"
     },
     "user_tz": 240
    },
    "id": "7-lUMIbeCIof"
   },
   "outputs": [],
   "source": [
    "# Start Spark session\n",
    "from pyspark.sql import SparkSession\n",
    "spark = SparkSession.builder.appName(\"Vine_Analysis\").getOrCreate()"
   ]
  },
  {
   "cell_type": "code",
   "execution_count": 3,
   "metadata": {
    "colab": {
     "base_uri": "https://localhost:8080/"
    },
    "executionInfo": {
     "elapsed": 208623,
     "status": "ok",
     "timestamp": 1662941806746,
     "user": {
      "displayName": "Ahmed Faraz",
      "userId": "17343988725595118136"
     },
     "user_tz": 240
    },
    "id": "r7gm1IAeCquz",
    "outputId": "2e8cc360-c0ca-495c-9d7d-f348c7697e85"
   },
   "outputs": [
    {
     "name": "stdout",
     "output_type": "stream",
     "text": [
      "+-----------+-----------+--------------+----------+--------------+--------------------+----------------+-----------+-------------+-----------+----+-----------------+--------------------+--------------------+-----------+\n",
      "|marketplace|customer_id|     review_id|product_id|product_parent|       product_title|product_category|star_rating|helpful_votes|total_votes|vine|verified_purchase|     review_headline|         review_body|review_date|\n",
      "+-----------+-----------+--------------+----------+--------------+--------------------+----------------+-----------+-------------+-----------+----+-----------------+--------------------+--------------------+-----------+\n",
      "|         US|   16414143|R3W4P9UBGNGH1U|B00YL0EKWE|     852431543|LG G4 Case Hard T...|        Wireless|          2|            1|          3|   N|                Y|Looks good, funct...|2 issues  -  Once...| 2015-08-31|\n",
      "|         US|   50800750|R15V54KBMTQWAY|B00XK95RPQ|     516894650|Selfie Stick Fibl...|        Wireless|          4|            0|          0|   N|                N| A fun little gadget|I’m embarrassed t...| 2015-08-31|\n",
      "|         US|   15184378| RY8I449HNXSVF|B00SXRXUKO|     984297154|Tribe AB40 Water ...|        Wireless|          5|            0|          0|   N|                Y|          Five Stars|  Fits iPhone 6 well| 2015-08-31|\n",
      "|         US|   10203548|R18TLJYCKJFLSR|B009V5X1CE|     279912704|RAVPower® Element...|        Wireless|          5|            0|          0|   N|                Y|       Great charger|Great charger.  I...| 2015-08-31|\n",
      "|         US|     488280|R1NK26SWS53B8Q|B00D93OVF0|     662791300|Fosmon Micro USB ...|        Wireless|          5|            0|          0|   N|                Y|          Five Stars|Great for the pri...| 2015-08-31|\n",
      "|         US|   13334021|R11LOHEDYJALTN|B00XVGJMDQ|     421688488|iPhone 6 Case, Vo...|        Wireless|          5|            0|          0|   N|                Y|          Five Stars|Great Case, bette...| 2015-08-31|\n",
      "|         US|   27520697|R3ALQVQB2P9LA7|B00KQW1X1C|     554285554|Nokia Lumia 630 R...|        Wireless|          4|            0|          0|   N|                Y|          Four Stars|Easy to set up an...| 2015-08-31|\n",
      "|         US|   48086021|R3MWLXLNO21PDQ|B00IP1MQNK|     488006702|Lumsing 10400mah ...|        Wireless|          5|            0|          0|   N|                Y|          Five Stars|         Works great| 2015-08-31|\n",
      "|         US|   12738196|R2L15IS24CX0LI|B00HVORET8|     389677711|iPhone 5S Battery...|        Wireless|          5|            0|          0|   N|                Y|      So far so good|So far so good. I...| 2015-08-31|\n",
      "|         US|   15867807|R1DJ8976WPWVZU|B00HX3G6J6|     299654876|HTC One M8 Screen...|        Wireless|          3|            0|          0|   N|                Y|seems durable but...|seems durable but...| 2015-08-31|\n",
      "|         US|    1972249|R3MRWNNR8CBTB7|B00U4NATNQ|     577878727|S6 Case - Bear Mo...|        Wireless|          5|            0|          0|   N|                Y|Super thin, light...|Super thin, light...| 2015-08-31|\n",
      "|         US|   10956619|R1DS6DKTUXAQK3|B00SZEFDH8|     654620704|BLU Studio X, Unl...|        Wireless|          5|            0|          0|   N|                Y|          Five Stars|As good as the Sa...| 2015-08-31|\n",
      "|         US|   14805911| RWJM5E0TWUJD2|B00JRJUL9U|     391166958|EZOPower 5-Port U...|        Wireless|          5|            0|          0|   N|                Y|            EZOPower|I received this o...| 2015-08-31|\n",
      "|         US|   15611116|R1XTJKDYNCRGAC|B00KQ4T0HE|     481551630|iPhone 6S Case &i...|        Wireless|          1|            0|          0|   N|                Y|Very cheap case. ...|Very cheap case. ...| 2015-08-31|\n",
      "|         US|   39298603|R2UZL3DPWEU1XW|B00M0YWKPM|     685107474| iPhone 6s Plus Case|        Wireless|          5|            0|          0|   N|                Y|          Five Stars|       son loves it.| 2015-08-31|\n",
      "|         US|   17552454|R2EZXET9KBFFU3|B00KDZEE68|     148320945|zBoost ZB575-A TR...|        Wireless|          1|            0|          0|   N|                Y|            One Star|you have to turn ...| 2015-08-31|\n",
      "|         US|   12218556|R26VY1L1FD3LPU|B00BJN45GM|      47788188|OtterBox Defender...|        Wireless|          5|            0|          0|   N|                Y|          Five Stars|  Awesome, thank you| 2015-08-31|\n",
      "|         US|   21872923|R2SSA4NSFCV18T|B00SA86SXW|     748759272|Aduro PowerUP 30W...|        Wireless|          5|            0|          0|   N|                N|          Five Stars|         nice, smart| 2015-08-31|\n",
      "|         US|   16264332|R1G6333JHJNEUQ|B00Q3I68TU|     974085141|LilGadgets Connec...|        Wireless|          5|            0|          0|   N|                Y|Great headphones ...|We love these hea...| 2015-08-31|\n",
      "|         US|    6042304|R2DRG0UZXJQ0PE|B00TN4J1TA|     716174627|Anker Aluminum Mu...|        Wireless|          5|            0|          0|   N|                Y|          Five Stars|This is well wort...| 2015-08-31|\n",
      "+-----------+-----------+--------------+----------+--------------+--------------------+----------------+-----------+-------------+-----------+----+-----------------+--------------------+--------------------+-----------+\n",
      "only showing top 20 rows\n",
      "\n"
     ]
    }
   ],
   "source": [
    "# Read in data from S3 List\n",
    "from pyspark import SparkFiles\n",
    "url =\"https://s3.amazonaws.com/amazon-reviews-pds/tsv/amazon_reviews_us_Wireless_v1_00.tsv.gz\"\n",
    "spark.sparkContext.addFile(url)\n",
    "df = spark.read.option(\"encoding\", \"UTF-8\").csv(SparkFiles.get(\"\"), sep=\"\\t\", header=True, inferSchema=True)\n",
    "df.show()\n"
   ]
  },
  {
   "cell_type": "markdown",
   "metadata": {
    "id": "WoID1pcDEg8l"
   },
   "source": [
    "###Step 1\n",
    "Filter the data and create a new DataFrame or table to retrieve all the rows where the total_votes count is equal to or greater than 20 to pick reviews that are more likely to be helpful and to avoid having division by zero errors later on.]\n"
   ]
  },
  {
   "cell_type": "code",
   "execution_count": 5,
   "metadata": {
    "colab": {
     "base_uri": "https://localhost:8080/"
    },
    "executionInfo": {
     "elapsed": 517,
     "status": "ok",
     "timestamp": 1662942337476,
     "user": {
      "displayName": "Ahmed Faraz",
      "userId": "17343988725595118136"
     },
     "user_tz": 240
    },
    "id": "WLpElAHHE2eU",
    "outputId": "4c08ca85-fee1-4f2f-858a-ee067c50a6d1"
   },
   "outputs": [
    {
     "name": "stdout",
     "output_type": "stream",
     "text": [
      "+--------------+-----------+-------------+-----------+----+-----------------+\n",
      "|     review_id|star_rating|helpful_votes|total_votes|vine|verified_purchase|\n",
      "+--------------+-----------+-------------+-----------+----+-----------------+\n",
      "|R3W4P9UBGNGH1U|          2|            1|          3|   N|                Y|\n",
      "|R15V54KBMTQWAY|          4|            0|          0|   N|                N|\n",
      "| RY8I449HNXSVF|          5|            0|          0|   N|                Y|\n",
      "|R18TLJYCKJFLSR|          5|            0|          0|   N|                Y|\n",
      "|R1NK26SWS53B8Q|          5|            0|          0|   N|                Y|\n",
      "+--------------+-----------+-------------+-----------+----+-----------------+\n",
      "only showing top 5 rows\n",
      "\n"
     ]
    }
   ],
   "source": [
    "# Create the vine_table. DataFrame\n",
    "vine_df = df.select([\"review_id\",\"star_rating\",\"helpful_votes\",\"total_votes\",\"vine\",\"verified_purchase\"])\n",
    "\n",
    "vine_df.show(5)"
   ]
  },
  {
   "cell_type": "code",
   "execution_count": 7,
   "metadata": {
    "colab": {
     "base_uri": "https://localhost:8080/"
    },
    "executionInfo": {
     "elapsed": 508,
     "status": "ok",
     "timestamp": 1662942775148,
     "user": {
      "displayName": "Ahmed Faraz",
      "userId": "17343988725595118136"
     },
     "user_tz": 240
    },
    "id": "h6bKKjsJFpUp",
    "outputId": "678f7a57-89ca-49af-e06e-f3b6d0d1d964"
   },
   "outputs": [
    {
     "name": "stdout",
     "output_type": "stream",
     "text": [
      "+--------------+-----------+-------------+-----------+----+-----------------+\n",
      "|     review_id|star_rating|helpful_votes|total_votes|vine|verified_purchase|\n",
      "+--------------+-----------+-------------+-----------+----+-----------------+\n",
      "|R2WOW0TURNXB26|          3|           54|         59|   N|                Y|\n",
      "|R13VL62Y2HBQ0B|          5|           15|         21|   N|                Y|\n",
      "|R22G55KAPZKJQV|          4|           20|         21|   N|                Y|\n",
      "|R1610PGTJS7G3N|          2|           28|         44|   N|                Y|\n",
      "| RLQL04BL0QXOJ|          4|           45|         47|   N|                Y|\n",
      "+--------------+-----------+-------------+-----------+----+-----------------+\n",
      "only showing top 5 rows\n",
      "\n"
     ]
    }
   ],
   "source": [
    "vote_counts = vine_df.filter(\"total_votes >= 20\")\n",
    "vote_counts.show(5)"
   ]
  },
  {
   "cell_type": "code",
   "execution_count": null,
   "metadata": {
    "id": "9GUAmyDvFphq"
   },
   "outputs": [],
   "source": []
  },
  {
   "cell_type": "markdown",
   "metadata": {
    "id": "YVRMZ3HJEhM2"
   },
   "source": [
    "###Step 2\n",
    "Filter the new DataFrame or table created in Step 1 and create a new DataFrame or table to retrieve all the rows where the number of helpful_votes divided by total_votes is equal to or greater than 50%."
   ]
  },
  {
   "cell_type": "code",
   "execution_count": 9,
   "metadata": {
    "colab": {
     "base_uri": "https://localhost:8080/"
    },
    "executionInfo": {
     "elapsed": 597,
     "status": "ok",
     "timestamp": 1662942923234,
     "user": {
      "displayName": "Ahmed Faraz",
      "userId": "17343988725595118136"
     },
     "user_tz": 240
    },
    "id": "04aGtPLbE2_O",
    "outputId": "8715b4b9-26b7-4a87-bbc4-be9a0042930d"
   },
   "outputs": [
    {
     "name": "stdout",
     "output_type": "stream",
     "text": [
      "+--------------+-----------+-------------+-----------+----+-----------------+\n",
      "|     review_id|star_rating|helpful_votes|total_votes|vine|verified_purchase|\n",
      "+--------------+-----------+-------------+-----------+----+-----------------+\n",
      "|R2WOW0TURNXB26|          3|           54|         59|   N|                Y|\n",
      "|R13VL62Y2HBQ0B|          5|           15|         21|   N|                Y|\n",
      "|R22G55KAPZKJQV|          4|           20|         21|   N|                Y|\n",
      "|R1610PGTJS7G3N|          2|           28|         44|   N|                Y|\n",
      "| RLQL04BL0QXOJ|          4|           45|         47|   N|                Y|\n",
      "+--------------+-----------+-------------+-----------+----+-----------------+\n",
      "only showing top 5 rows\n",
      "\n"
     ]
    }
   ],
   "source": [
    "new_table = vote_counts.filter(vote_counts[\"helpful_votes\"]/vote_counts[\"total_votes\"]>= 0.5)\n",
    "new_table.show(5)"
   ]
  },
  {
   "cell_type": "markdown",
   "metadata": {
    "id": "c67z6zhaEhWd"
   },
   "source": [
    "###Step 3\n",
    "\n",
    "Filter the DataFrame or table created in Step 2, and create a new DataFrame or table that retrieves all the rows where a review was written as part of the Vine program (paid), vine == 'Y'."
   ]
  },
  {
   "cell_type": "code",
   "execution_count": 12,
   "metadata": {
    "colab": {
     "base_uri": "https://localhost:8080/"
    },
    "executionInfo": {
     "elapsed": 2003,
     "status": "ok",
     "timestamp": 1662943048225,
     "user": {
      "displayName": "Ahmed Faraz",
      "userId": "17343988725595118136"
     },
     "user_tz": 240
    },
    "id": "pROLozgEE3Za",
    "outputId": "233ca297-8825-432b-f7ff-fbab412dfe72"
   },
   "outputs": [
    {
     "name": "stdout",
     "output_type": "stream",
     "text": [
      "+--------------+-----------+-------------+-----------+----+-----------------+\n",
      "|     review_id|star_rating|helpful_votes|total_votes|vine|verified_purchase|\n",
      "+--------------+-----------+-------------+-----------+----+-----------------+\n",
      "|R1MAOLI5FJHAFM|          4|          249|        261|   Y|                N|\n",
      "| R9PYAUDIBJVEC|          4|           12|         22|   Y|                N|\n",
      "| R6V9SHMMG5M8F|          5|          101|        110|   Y|                N|\n",
      "|R37PVLT6ELL5J4|          4|          181|        209|   Y|                N|\n",
      "| R2FSFGWZF24V9|          4|           50|         51|   Y|                N|\n",
      "+--------------+-----------+-------------+-----------+----+-----------------+\n",
      "only showing top 5 rows\n",
      "\n"
     ]
    }
   ],
   "source": [
    "upvote_df = new_table.filter(vote_counts[\"vine\"]== \"Y\")\n",
    "upvote_df.show(5)"
   ]
  },
  {
   "cell_type": "markdown",
   "metadata": {
    "id": "zPgCmOM3Ehfv"
   },
   "source": [
    "###Step 4\n",
    "Repeat Step 3, but this time retrieve all the rows where the review was not part of the Vine program (unpaid), vine == 'N'.\n"
   ]
  },
  {
   "cell_type": "code",
   "execution_count": 13,
   "metadata": {
    "colab": {
     "base_uri": "https://localhost:8080/"
    },
    "executionInfo": {
     "elapsed": 469,
     "status": "ok",
     "timestamp": 1662943096485,
     "user": {
      "displayName": "Ahmed Faraz",
      "userId": "17343988725595118136"
     },
     "user_tz": 240
    },
    "id": "8J5V2HqhE3yk",
    "outputId": "36e62648-d330-4cfa-c50e-b64218259380"
   },
   "outputs": [
    {
     "name": "stdout",
     "output_type": "stream",
     "text": [
      "+--------------+-----------+-------------+-----------+----+-----------------+\n",
      "|     review_id|star_rating|helpful_votes|total_votes|vine|verified_purchase|\n",
      "+--------------+-----------+-------------+-----------+----+-----------------+\n",
      "|R2WOW0TURNXB26|          3|           54|         59|   N|                Y|\n",
      "|R13VL62Y2HBQ0B|          5|           15|         21|   N|                Y|\n",
      "|R22G55KAPZKJQV|          4|           20|         21|   N|                Y|\n",
      "|R1610PGTJS7G3N|          2|           28|         44|   N|                Y|\n",
      "| RLQL04BL0QXOJ|          4|           45|         47|   N|                Y|\n",
      "+--------------+-----------+-------------+-----------+----+-----------------+\n",
      "only showing top 5 rows\n",
      "\n"
     ]
    }
   ],
   "source": [
    "down_vote_df = new_table.filter(vote_counts[\"vine\"]== \"N\")\n",
    "down_vote_df.show(5)"
   ]
  },
  {
   "cell_type": "markdown",
   "metadata": {
    "id": "93al4cHGE1FQ"
   },
   "source": [
    "###Step 5\n",
    "\n",
    "Determine the total number of reviews, the number of 5-star reviews, and the percentage of 5-star reviews for the two types of review (paid vs unpaid).\n"
   ]
  },
  {
   "cell_type": "markdown",
   "metadata": {
    "id": "t48umNzMProb"
   },
   "source": [
    "##Five Star Unpaid Reviews/ Total Unpaid"
   ]
  },
  {
   "cell_type": "code",
   "execution_count": 29,
   "metadata": {
    "colab": {
     "base_uri": "https://localhost:8080/"
    },
    "executionInfo": {
     "elapsed": 55250,
     "status": "ok",
     "timestamp": 1662946271215,
     "user": {
      "displayName": "Ahmed Faraz",
      "userId": "17343988725595118136"
     },
     "user_tz": 240
    },
    "id": "PR9lNgveEyzK",
    "outputId": "0c513068-f272-4102-93d4-dbb67553c269"
   },
   "outputs": [
    {
     "data": {
      "text/plain": [
       "30543"
      ]
     },
     "execution_count": 29,
     "metadata": {},
     "output_type": "execute_result"
    }
   ],
   "source": [
    "unpaid_stars = down_vote_df.filter(down_vote_df[\"star_rating\"]== 5).count()\n",
    "unpaid_stars"
   ]
  },
  {
   "cell_type": "code",
   "execution_count": 32,
   "metadata": {
    "colab": {
     "base_uri": "https://localhost:8080/"
    },
    "executionInfo": {
     "elapsed": 55132,
     "status": "ok",
     "timestamp": 1662946434231,
     "user": {
      "displayName": "Ahmed Faraz",
      "userId": "17343988725595118136"
     },
     "user_tz": 240
    },
    "id": "h6ctoZ20T9mu",
    "outputId": "3892240a-9896-4854-d2ec-3c1dfad3b72f"
   },
   "outputs": [
    {
     "data": {
      "text/plain": [
       "64968"
      ]
     },
     "execution_count": 32,
     "metadata": {},
     "output_type": "execute_result"
    }
   ],
   "source": [
    "unpaid= down_vote_df.count()\n",
    "unpaid"
   ]
  },
  {
   "cell_type": "markdown",
   "metadata": {
    "id": "HHgcszGoWYeU"
   },
   "source": [
    "#Percent Unpaid"
   ]
  },
  {
   "cell_type": "code",
   "execution_count": 37,
   "metadata": {
    "colab": {
     "base_uri": "https://localhost:8080/"
    },
    "executionInfo": {
     "elapsed": 248,
     "status": "ok",
     "timestamp": 1662946768780,
     "user": {
      "displayName": "Ahmed Faraz",
      "userId": "17343988725595118136"
     },
     "user_tz": 240
    },
    "id": "ET6K9epgWeZZ",
    "outputId": "31365e42-517f-4f79-a4f8-99fa4f32b9fa"
   },
   "outputs": [
    {
     "data": {
      "text/plain": [
       "47.01237532323606"
      ]
     },
     "execution_count": 37,
     "metadata": {},
     "output_type": "execute_result"
    }
   ],
   "source": [
    "unpaid_percent = (unpaid_stars/ unpaid)*100\n",
    "unpaid_percent"
   ]
  },
  {
   "cell_type": "markdown",
   "metadata": {
    "id": "Z_zBg9wLP2a7"
   },
   "source": [
    "#Five Star Paid Reviews/ Total Paid\n"
   ]
  },
  {
   "cell_type": "code",
   "execution_count": 25,
   "metadata": {
    "colab": {
     "base_uri": "https://localhost:8080/"
    },
    "executionInfo": {
     "elapsed": 51963,
     "status": "ok",
     "timestamp": 1662945121131,
     "user": {
      "displayName": "Ahmed Faraz",
      "userId": "17343988725595118136"
     },
     "user_tz": 240
    },
    "id": "jz45-ElPKTbG",
    "outputId": "6af91f08-91d8-4165-a9bd-b9ecb5b0d867"
   },
   "outputs": [
    {
     "data": {
      "text/plain": [
       "222"
      ]
     },
     "execution_count": 25,
     "metadata": {},
     "output_type": "execute_result"
    }
   ],
   "source": [
    "paid_stars = upvote_df.filter(upvote_df[\"star_rating\"]==5).count()\n",
    "paid_stars"
   ]
  },
  {
   "cell_type": "code",
   "execution_count": 27,
   "metadata": {
    "colab": {
     "base_uri": "https://localhost:8080/"
    },
    "executionInfo": {
     "elapsed": 53155,
     "status": "ok",
     "timestamp": 1662946141216,
     "user": {
      "displayName": "Ahmed Faraz",
      "userId": "17343988725595118136"
     },
     "user_tz": 240
    },
    "id": "ydhgHpGmTyzo",
    "outputId": "cc2c2abc-e075-4bae-8d77-4c859eaf38bb"
   },
   "outputs": [
    {
     "data": {
      "text/plain": [
       "613"
      ]
     },
     "execution_count": 27,
     "metadata": {},
     "output_type": "execute_result"
    }
   ],
   "source": [
    "paid = upvote_df.count()\n",
    "paid"
   ]
  },
  {
   "cell_type": "markdown",
   "metadata": {
    "id": "5CGs7bP0WOuL"
   },
   "source": [
    "#Percent Paid"
   ]
  },
  {
   "cell_type": "code",
   "execution_count": 36,
   "metadata": {
    "colab": {
     "base_uri": "https://localhost:8080/"
    },
    "executionInfo": {
     "elapsed": 230,
     "status": "ok",
     "timestamp": 1662946722509,
     "user": {
      "displayName": "Ahmed Faraz",
      "userId": "17343988725595118136"
     },
     "user_tz": 240
    },
    "id": "7qQVnCKqWNTR",
    "outputId": "e6d8f276-d09b-4747-be24-d6216d237000"
   },
   "outputs": [
    {
     "data": {
      "text/plain": [
       "36.215334420880914"
      ]
     },
     "execution_count": 36,
     "metadata": {},
     "output_type": "execute_result"
    }
   ],
   "source": [
    "paid_percent = (paid_stars/ paid)*100\n",
    "paid_percent"
   ]
  },
  {
   "cell_type": "markdown",
   "metadata": {
    "id": "RekWpf-lP8_D"
   },
   "source": [
    "#Total Number of Review\n"
   ]
  },
  {
   "cell_type": "code",
   "execution_count": 31,
   "metadata": {
    "colab": {
     "base_uri": "https://localhost:8080/"
    },
    "executionInfo": {
     "elapsed": 53097,
     "status": "ok",
     "timestamp": 1662946378392,
     "user": {
      "displayName": "Ahmed Faraz",
      "userId": "17343988725595118136"
     },
     "user_tz": 240
    },
    "id": "0KbYnm7IK0zh",
    "outputId": "fda6c126-17bf-48a4-9a4e-3b53fee7eb37"
   },
   "outputs": [
    {
     "data": {
      "text/plain": [
       "30765"
      ]
     },
     "execution_count": 31,
     "metadata": {},
     "output_type": "execute_result"
    }
   ],
   "source": [
    "totalstars = new_table.filter(new_table[\"star_rating\"]== 5).count()\n",
    "totalstars"
   ]
  },
  {
   "cell_type": "code",
   "execution_count": 33,
   "metadata": {
    "colab": {
     "base_uri": "https://localhost:8080/"
    },
    "executionInfo": {
     "elapsed": 51742,
     "status": "ok",
     "timestamp": 1662946485959,
     "user": {
      "displayName": "Ahmed Faraz",
      "userId": "17343988725595118136"
     },
     "user_tz": 240
    },
    "id": "F1wULMFOK08p",
    "outputId": "462e0557-d5bb-4889-dc4c-fcad079acf31"
   },
   "outputs": [
    {
     "data": {
      "text/plain": [
       "65581"
      ]
     },
     "execution_count": 33,
     "metadata": {},
     "output_type": "execute_result"
    }
   ],
   "source": [
    "total_review = new_table.count()\n",
    "total_review"
   ]
  },
  {
   "cell_type": "code",
   "execution_count": null,
   "metadata": {
    "id": "Dxc5x8n5V_gP"
   },
   "outputs": [],
   "source": []
  }
 ],
 "metadata": {
  "colab": {
   "authorship_tag": "ABX9TyNfeEZWLlflzQCbZZKH97Qm",
   "collapsed_sections": [],
   "provenance": []
  },
  "kernelspec": {
   "display_name": "Python 3 (ipykernel)",
   "language": "python",
   "name": "python3"
  },
  "language_info": {
   "codemirror_mode": {
    "name": "ipython",
    "version": 3
   },
   "file_extension": ".py",
   "mimetype": "text/x-python",
   "name": "python",
   "nbconvert_exporter": "python",
   "pygments_lexer": "ipython3",
   "version": "3.9.12"
  }
 },
 "nbformat": 4,
 "nbformat_minor": 1
}
